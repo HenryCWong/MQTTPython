{
 "cells": [
  {
   "cell_type": "code",
   "execution_count": 1,
   "metadata": {},
   "outputs": [],
   "source": [
    "import os\n",
    "from scapy.all import *\n",
    "import numpy as np\n",
    "import re\n",
    "import binascii\n",
    "import codecs"
   ]
  },
  {
   "cell_type": "code",
   "execution_count": 2,
   "metadata": {},
   "outputs": [],
   "source": [
    "packets = rdpcap('mqtt_packets_tcpdump.pcap')"
   ]
  },
  {
   "cell_type": "code",
   "execution_count": 3,
   "metadata": {},
   "outputs": [],
   "source": [
    "# Let's iterate through every packet\n",
    "tcpPackets = []\n",
    "for packet in packets:\n",
    "#    # We're only interested packets with a DNS Round Robin layer\n",
    "    #print(type(packet))\n",
    "    if packet.haslayer(TCP):\n",
    "        #print(packet.load)\n",
    "        tcpPackets.append(packet)"
   ]
  },
  {
   "cell_type": "code",
   "execution_count": 4,
   "metadata": {},
   "outputs": [],
   "source": [
    "def charToHex(a):\n",
    "    hexList = []\n",
    "    for c in a:\n",
    "        newHex = str(hex(ord(c)))\n",
    "        hexList.append(newHex.replace(\"0x\",\"\"))\n",
    "    return hexList"
   ]
  },
  {
   "cell_type": "code",
   "execution_count": 5,
   "metadata": {},
   "outputs": [],
   "source": [
    "def fixHex(packet):\n",
    "    allHex = []\n",
    "    cleanPacket = str(packet)[2:-1]\n",
    "    splitPacket = cleanPacket.split(\"\\\\\")\n",
    "    for a in splitPacket:\n",
    "        #print(\"________________\" + a + \"_____________\")\n",
    "        reg = re.findall(r\"[xX][0-9a-fA-F]{2}\",a)\n",
    "        if reg:\n",
    "            allHex.append(reg[0].replace(\"x\",\"\"))\n",
    "            leftOver = a.replace(reg[0],\"\")\n",
    "            #c = codecs.encode(b, \"hex\")\n",
    "            #print(reg)\n",
    "            newHex = charToHex(leftOver)\n",
    "            for n in newHex:\n",
    "                allHex.append(n.replace(\"0x\",\"\"))\n",
    "        else:\n",
    "            newHex = charToHex(a)\n",
    "            for n in newHex:\n",
    "                allHex.append(n.replace(\"0x\",\"\"))\n",
    "        #print(allHex)\n",
    "    return(allHex)\n",
    "\n",
    "        #print(reg)"
   ]
  },
  {
   "cell_type": "code",
   "execution_count": 6,
   "metadata": {},
   "outputs": [],
   "source": [
    "class TcpPacket:\n",
    "    def __init__(self,packet):           #here packet should be a list of hex values\n",
    "        self.entirePacket = packet\n",
    "        self.destination = packet[:6]    #first six bytes\n",
    "        self.source = packet[6:12]             #next six bytes\n",
    "        self.coreProtocol = packet[12:14]      #next 2 bytes\n",
    "        self.ipVersion = packet[14:34]         #next 20 bytes are ipv4 stuff\n",
    "        self.tcp = packet[34:66]               #next 32 bytes defines TCP protocol\n",
    "        self.mqtt = packet[66:]\n",
    "\n",
    "        self.mqttType = self.typeMap(self.mqtt[0])\n",
    "        print(self.mqttType)\n",
    "        if self.mqttType[0] == 4 or self.mqttType[0] == 7:\n",
    "            self.mqttPacket = MqttPublish(self.mqtt)\n",
    "        else:\n",
    "            self.mqttPacket = None     #rest of packet will be MQTT\n",
    "                        \n",
    "    def typeMap(self,hexVal):\n",
    "        meanings = {\"10\":0,\"20\":1,\"82\":2,\"90\":3,\"30\":4,\"c0\":5,\"d0\":6,\"31\":7}\n",
    "        hexToCommand = {0:\"Connect Command\",1:\"Connect Ack\",2:\"Suscribe Request\",3:\"Suscribe Ack\",4:\"Publisher Message\",5:\"Ping Request\",6:\"Ping Response\",7:\"Publisher Message (Retain)\"}\n",
    "        a = meanings[hexVal]\n",
    "        b = hexToCommand[a]\n",
    "        return(a,b)\n",
    "    \n",
    "    def rebuildPacket(self):\n",
    "        newPacket = self.entirePacket[:66]\n",
    "        newPacket = newPacket + self.mqttPacket.getHex()\n",
    "        return \" \".join(newPacket)"
   ]
  },
  {
   "cell_type": "code",
   "execution_count": 7,
   "metadata": {},
   "outputs": [],
   "source": [
    "#class for the mqtt Connect Command\n",
    "class MqttPublish:\n",
    "    def __init__(self,mqtt):\n",
    "        self.entirePacket = mqtt\n",
    "        code,word = self.typeMap(mqtt[0])\n",
    "        self.messageType = mqtt[0]\n",
    "        self.messageTypeWord = word\n",
    "        self.messageLength = mqtt[1]\n",
    "        self.messageLengthNum = self.hexToInt(self.messageLength)\n",
    "        self.topicLength = mqtt[2:4]\n",
    "        self.topicLengthNum = self.hexToInt(self.topicLength)\n",
    "        self.topicName = self.findTopicName(self.topicLength,mqtt)\n",
    "        self.message = mqtt[self.topicLengthNum+4:][:self.messageLengthNum-self.topicLengthNum-3]\n",
    "        self.messageWords = codecs.decode(\"\".join(self.message),\"hex\")\n",
    "        self.messageWords = codecs.decode(self.messageWords,\"utf-8\")\n",
    "        if (len(packetList[8][66:])-self.messageLengthNum-2) == 0:\n",
    "            self.disconnect=False\n",
    "        else:\n",
    "            self.disconnect=True\n",
    "        \n",
    "    def findTopicName(self,topicLength,mqtt):\n",
    "        length = self.hexToInt(topicLength) #convert hex string to int\n",
    "        topicName = mqtt[4:length+4]\n",
    "        return(topicName)\n",
    "    \n",
    "    def hexToInt(self,length):\n",
    "        return(int(\"\".join(length),16))\n",
    "    \n",
    "    def typeMap(self,hexVal):\n",
    "        meanings = {\"10\":0,\"20\":1,\"82\":2,\"90\":3,\"30\":4,\"c0\":5,\"d0\":6,\"31\":7}\n",
    "        hexToCommand = {0:\"Connect Command\",1:\"Connect Ack\",2:\"Suscribe Request\",3:\"Suscribe Ack\",4:\"Publisher Message\",5:\"Ping Request\",6:\"Ping Response\",7:\"Publisher Message (Retain)\"}\n",
    "        a = meanings[hexVal]\n",
    "        b = hexToCommand[a]\n",
    "        return(a,b)\n",
    "    \n",
    "    def changeMessage(self,newMessage): #since MQTT doesn't have a checksum we can just go ahead and alter the packet\n",
    "        self.messageWords = newMessage\n",
    "        self.messageLengthNum = self.messageLengthNum - (self.messageLengthNum-len(newMessage))\n",
    "        self.messageLength = hex(self.messageLengthNum)\n",
    "        message = []\n",
    "        for letter in newMessage:\n",
    "            message.append(hex(ord(letter)))\n",
    "        self.message = message\n",
    "        \n",
    "    def getHex(self):\n",
    "        full = []\n",
    "        meanings = {0:\"10\",1:\"20\",2:\"82\",3:\"90\",4:\"30\",5:\"c0\",6:\"d0\",7:\"31\"}\n",
    "        [full.append(meanings[int(x)]) for x in self.messageType]\n",
    "        a = self.messageLength.replace(\"0x\",\"\")\n",
    "        if len(a) < 2:\n",
    "            a = '0' + a\n",
    "        full.append(a)\n",
    "        #[full.append(x) for x in a]\n",
    "        [full.append(x) for x in self.topicLength]\n",
    "        [full.append(x) for x in self.topicName]\n",
    "        [full.append(x.replace(\"0x\",\"\")) for x in self.message]\n",
    "        if self.disconnect == True:\n",
    "            full.append(\"e0\")\n",
    "            full.append(\"00\")\n",
    "        return(full)\n",
    "        \n",
    "        \n",
    "        "
   ]
  },
  {
   "cell_type": "code",
   "execution_count": 8,
   "metadata": {},
   "outputs": [],
   "source": [
    "def onlyMQTTPackets(packets):\n",
    "    processedPackets = []\n",
    "    for packet in packetList:\n",
    "        processedPackets.append(TcpPacket(packet))\n",
    "        \n",
    "    messageRequests = []\n",
    "    for pPacket in processedPackets:\n",
    "        num,word = pPacket.mqttType\n",
    "        if num == 4 | num == 7:\n",
    "            messageRequests.append(pPacket)\n",
    "    return(messageRequests)"
   ]
  },
  {
   "cell_type": "code",
   "execution_count": 9,
   "metadata": {},
   "outputs": [],
   "source": [
    "packetList = []\n",
    "for packet in tcpPackets:\n",
    "    packetList.append(fixHex(packet))"
   ]
  },
  {
   "cell_type": "code",
   "execution_count": 10,
   "metadata": {},
   "outputs": [
    {
     "name": "stdout",
     "output_type": "stream",
     "text": [
      "(0, 'Connect Command')\n",
      "(1, 'Connect Ack')\n",
      "(2, 'Suscribe Request')\n",
      "(3, 'Suscribe Ack')\n",
      "(7, 'Publisher Message (Retain)')\n",
      "(5, 'Ping Request')\n",
      "(6, 'Ping Response')\n",
      "(0, 'Connect Command')\n",
      "(4, 'Publisher Message')\n",
      "(1, 'Connect Ack')\n",
      "(4, 'Publisher Message')\n",
      "(5, 'Ping Request')\n",
      "(6, 'Ping Response')\n",
      "(5, 'Ping Request')\n",
      "(6, 'Ping Response')\n",
      "(5, 'Ping Request')\n",
      "(6, 'Ping Response')\n",
      "(5, 'Ping Request')\n",
      "(6, 'Ping Response')\n"
     ]
    }
   ],
   "source": [
    "msgPackets = onlyMQTTPackets(packetList)"
   ]
  },
  {
   "cell_type": "code",
   "execution_count": 11,
   "metadata": {},
   "outputs": [],
   "source": [
    "a = msgPackets[0]"
   ]
  },
  {
   "cell_type": "code",
   "execution_count": 14,
   "metadata": {},
   "outputs": [
    {
     "data": {
      "text/plain": [
       "'28'"
      ]
     },
     "execution_count": 14,
     "metadata": {},
     "output_type": "execute_result"
    }
   ],
   "source": [
    "a.mqttPacket.messageWords"
   ]
  },
  {
   "cell_type": "code",
   "execution_count": 15,
   "metadata": {},
   "outputs": [],
   "source": [
    "a.mqttPacket.changeMessage(\"80\")"
   ]
  },
  {
   "cell_type": "code",
   "execution_count": 16,
   "metadata": {},
   "outputs": [
    {
     "data": {
      "text/plain": [
       "'80'"
      ]
     },
     "execution_count": 16,
     "metadata": {},
     "output_type": "execute_result"
    }
   ],
   "source": [
    "a.mqttPacket.messageWords"
   ]
  },
  {
   "cell_type": "code",
   "execution_count": 17,
   "metadata": {},
   "outputs": [
    {
     "data": {
      "text/plain": [
       "'28 cf e9 21 14 8f 24 a2 e1 e6 ee 9b 08 00 45 20 00 66 a7 a0 00 00 29 06 f9 b3 c6 29 1e f1 6e 00 01 04 07 5b c0 af 79 3c 11 ec c1 e1 ff 69 80 18 00 e3 82 ac 00 00 01 01 08 6e 38 ac c3 56 38 21 d3 61 90 20 02 00 0b 53 61 6d 70 6c 65 54 6f 70 69 63 38 30 e0 00'"
      ]
     },
     "execution_count": 17,
     "metadata": {},
     "output_type": "execute_result"
    }
   ],
   "source": [
    "a.rebuildPacket()"
   ]
  },
  {
   "cell_type": "code",
   "execution_count": null,
   "metadata": {},
   "outputs": [],
   "source": []
  }
 ],
 "metadata": {
  "kernelspec": {
   "display_name": "Python 3",
   "language": "python",
   "name": "python3"
  },
  "language_info": {
   "codemirror_mode": {
    "name": "ipython",
    "version": 3
   },
   "file_extension": ".py",
   "mimetype": "text/x-python",
   "name": "python",
   "nbconvert_exporter": "python",
   "pygments_lexer": "ipython3",
   "version": "3.7.6"
  }
 },
 "nbformat": 4,
 "nbformat_minor": 4
}
